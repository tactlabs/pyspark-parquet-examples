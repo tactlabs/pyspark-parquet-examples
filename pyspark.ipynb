{
 "cells": [
  {
   "cell_type": "code",
   "execution_count": 16,
   "metadata": {},
   "outputs": [
    {
     "name": "stdout",
     "output_type": "stream",
     "text": [
      "22/12/06 20:12:24 WARN Utils: Your hostname, manoj-Mi-NoteBook-Horizon-Edition-14 resolves to a loopback address: 127.0.1.1; using 192.168.175.130 instead (on interface wlp0s20f3)\n",
      "22/12/06 20:12:24 WARN Utils: Set SPARK_LOCAL_IP if you need to bind to another address\n"
     ]
    },
    {
     "name": "stderr",
     "output_type": "stream",
     "text": [
      "Setting default log level to \"WARN\".\n",
      "To adjust logging level use sc.setLogLevel(newLevel). For SparkR, use setLogLevel(newLevel).\n"
     ]
    },
    {
     "name": "stdout",
     "output_type": "stream",
     "text": [
      "22/12/06 20:12:25 WARN NativeCodeLoader: Unable to load native-hadoop library for your platform... using builtin-java classes where applicable\n"
     ]
    }
   ],
   "source": [
    "\n",
    "import findspark\n",
    "findspark.init()\n",
    "import pyspark # Call this only after findspark.init()\n",
    "from pyspark.context import SparkContext\n",
    "from pyspark.sql.session import SparkSession\n",
    "\n",
    "sc = SparkContext.getOrCreate()\n",
    "spark = SparkSession(sc)\n"
   ]
  },
  {
   "cell_type": "code",
   "execution_count": null,
   "metadata": {},
   "outputs": [],
   "source": []
  },
  {
   "cell_type": "code",
   "execution_count": 32,
   "metadata": {},
   "outputs": [
    {
     "name": "stdout",
     "output_type": "stream",
     "text": [
      "+--------------------+--------------------+--------------------+--------------------+--------------------+\n",
      "|               title|        Company_name|            location|          job_detail|             content|\n",
      "+--------------------+--------------------+--------------------+--------------------+--------------------+\n",
      "|Machine Learning ...|       Deep Genomics|         Toronto, ON|            Job type|                null|\n",
      "|          Full-time\"|            About Us|                null|                null|                null|\n",
      "|     Founded in 2015| Deep Genomics is...| and by far the m...| AI platform that...|          mechanisms|\n",
      "|The thesis here a...| at some point in...| will face a gene...| whether Mendelia...| and we aim to be...|\n",
      "|     Ideal Candidate|                null|                null|                null|                null|\n",
      "|Our predictive sy...|            genomics|            medicine| and machine lear...|                null|\n",
      "|What You’ll Be Do...|                null|                null|                null|                null|\n",
      "|Working with our ...|                null|                null|                null|                null|\n",
      "|Developing evalua...|       visualization| and productivity...|                null|                null|\n",
      "|Adapting our algo...|                null|                null|                null|                null|\n",
      "|Working with our ...| biologists and g...|                null|                null|                null|\n",
      "|     What You Bring:|                null|                null|                null|                null|\n",
      "|Solid Engineering...| ideally with a d...|                Math| or equivalent ex...|                null|\n",
      "|Senior candidates...|          developing| and deploying la...|                null|                null|\n",
      "|Experience in bui...|             testing|            training| and deploying pr...|                null|\n",
      "|Experience develo...|                null|                null|                null|                null|\n",
      "|Experience with f...|              Caffe2|          Tensorflow|               Keras|                 JAX|\n",
      "|Experience in the...|       AWS Sagemaker|  Google AI Platform| Azure Machine Le...|                null|\n",
      "|      What we offer:|                null|                null|                null|                null|\n",
      "|Leading role in d...|                null|                null|                null|                null|\n",
      "+--------------------+--------------------+--------------------+--------------------+--------------------+\n",
      "only showing top 20 rows\n",
      "\n"
     ]
    }
   ],
   "source": [
    "sc = spark.sparkContext\n",
    "\n",
    "# A CSV dataset is pointed to by path.\n",
    "# The path can be either a single CSV file or a directory of CSV files\n",
    "path = \"abc.csv\"\n",
    "\n",
    "df = spark.read.option(\"delimiter\", \",\").option(\"header\", \"true\").csv(path)\n",
    "df.show()"
   ]
  },
  {
   "cell_type": "code",
   "execution_count": 33,
   "metadata": {},
   "outputs": [],
   "source": [
    "\n",
    "df.write.parquet(\"second2.parquet\")\n"
   ]
  },
  {
   "cell_type": "code",
   "execution_count": 34,
   "metadata": {},
   "outputs": [
    {
     "name": "stdout",
     "output_type": "stream",
     "text": [
      "root\n",
      " |-- title: string (nullable = true)\n",
      " |-- Company_name: string (nullable = true)\n",
      " |-- location: string (nullable = true)\n",
      " |-- job_detail: string (nullable = true)\n",
      " |-- content: string (nullable = true)\n",
      "\n",
      "+--------------------+--------------------+--------------------+--------------------+--------------------+\n",
      "|               title|        Company_name|            location|          job_detail|             content|\n",
      "+--------------------+--------------------+--------------------+--------------------+--------------------+\n",
      "|Machine Learning ...|       Deep Genomics|         Toronto, ON|            Job type|                null|\n",
      "|          Full-time\"|            About Us|                null|                null|                null|\n",
      "|     Founded in 2015| Deep Genomics is...| and by far the m...| AI platform that...|          mechanisms|\n",
      "|The thesis here a...| at some point in...| will face a gene...| whether Mendelia...| and we aim to be...|\n",
      "|     Ideal Candidate|                null|                null|                null|                null|\n",
      "|Our predictive sy...|            genomics|            medicine| and machine lear...|                null|\n",
      "|What You’ll Be Do...|                null|                null|                null|                null|\n",
      "|Working with our ...|                null|                null|                null|                null|\n",
      "|Developing evalua...|       visualization| and productivity...|                null|                null|\n",
      "|Adapting our algo...|                null|                null|                null|                null|\n",
      "|Working with our ...| biologists and g...|                null|                null|                null|\n",
      "|     What You Bring:|                null|                null|                null|                null|\n",
      "|Solid Engineering...| ideally with a d...|                Math| or equivalent ex...|                null|\n",
      "|Senior candidates...|          developing| and deploying la...|                null|                null|\n",
      "|Experience in bui...|             testing|            training| and deploying pr...|                null|\n",
      "|Experience develo...|                null|                null|                null|                null|\n",
      "|Experience with f...|              Caffe2|          Tensorflow|               Keras|                 JAX|\n",
      "|Experience in the...|       AWS Sagemaker|  Google AI Platform| Azure Machine Le...|                null|\n",
      "|      What we offer:|                null|                null|                null|                null|\n",
      "|Leading role in d...|                null|                null|                null|                null|\n",
      "+--------------------+--------------------+--------------------+--------------------+--------------------+\n",
      "only showing top 20 rows\n",
      "\n"
     ]
    }
   ],
   "source": [
    "ParDataFrame1 = spark.read.parquet(\"second2.parquet\")\n",
    "ParDataFrame1.createOrReplaceTempView(\"ParquetTable\")\n",
    "ParDataFrame1.printSchema()\n",
    "ParDataFrame1.show()"
   ]
  },
  {
   "cell_type": "code",
   "execution_count": 38,
   "metadata": {},
   "outputs": [
    {
     "name": "stdout",
     "output_type": "stream",
     "text": [
      "DataFrame[title: string, Company_name: string, location: string, job_detail: string, content: string]\n"
     ]
    }
   ],
   "source": [
    "results = spark.sql(\"SELECT * from ParquetTable \")\n",
    "print(results)"
   ]
  }
 ],
 "metadata": {
  "kernelspec": {
   "display_name": "Python 3 (ipykernel)",
   "language": "python",
   "name": "python3"
  },
  "language_info": {
   "codemirror_mode": {
    "name": "ipython",
    "version": 3
   },
   "file_extension": ".py",
   "mimetype": "text/x-python",
   "name": "python",
   "nbconvert_exporter": "python",
   "pygments_lexer": "ipython3",
   "version": "3.8.15"
  }
 },
 "nbformat": 4,
 "nbformat_minor": 4
}
