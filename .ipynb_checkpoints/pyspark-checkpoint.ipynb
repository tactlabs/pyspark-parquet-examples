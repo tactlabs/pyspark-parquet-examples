{
 "cells": [
  {
   "cell_type": "code",
   "execution_count": 3,
   "metadata": {},
   "outputs": [
    {
     "name": "stdout",
     "output_type": "stream",
     "text": [
      "22/12/07 19:50:36 WARN Utils: Your hostname, manoj-Mi-NoteBook-Horizon-Edition-14 resolves to a loopback address: 127.0.1.1; using 192.168.175.130 instead (on interface wlp0s20f3)\n",
      "22/12/07 19:50:36 WARN Utils: Set SPARK_LOCAL_IP if you need to bind to another address\n"
     ]
    },
    {
     "name": "stderr",
     "output_type": "stream",
     "text": [
      "Setting default log level to \"WARN\".\n",
      "To adjust logging level use sc.setLogLevel(newLevel). For SparkR, use setLogLevel(newLevel).\n"
     ]
    },
    {
     "name": "stdout",
     "output_type": "stream",
     "text": [
      "22/12/07 19:50:36 WARN NativeCodeLoader: Unable to load native-hadoop library for your platform... using builtin-java classes where applicable\n"
     ]
    }
   ],
   "source": [
    "\n",
    "import findspark\n",
    "findspark.init()\n",
    "import pyspark # Call this only after findspark.init()\n",
    "from pyspark.context import SparkContext\n",
    "from pyspark.sql.session import SparkSession\n",
    "\n",
    "sc = SparkContext.getOrCreate()\n",
    "spark = SparkSession(sc)\n"
   ]
  },
  {
   "cell_type": "code",
   "execution_count": null,
   "metadata": {},
   "outputs": [],
   "source": []
  },
  {
   "cell_type": "code",
   "execution_count": 4,
   "metadata": {},
   "outputs": [
    {
     "name": "stdout",
     "output_type": "stream",
     "text": [
      "+--------------------+--------------------+--------------------+--------------------+--------------------+\n",
      "|               title|        Company_name|            location|          job_detail|             content|\n",
      "+--------------------+--------------------+--------------------+--------------------+--------------------+\n",
      "|Machine Learning ...|       Deep Genomics|         Toronto, ON|            Job type|                null|\n",
      "|          Full-time\"|            About Us|                null|                null|                null|\n",
      "|     Founded in 2015| Deep Genomics is...| and by far the m...| AI platform that...|          mechanisms|\n",
      "|The thesis here a...| at some point in...| will face a gene...| whether Mendelia...| and we aim to be...|\n",
      "|     Ideal Candidate|                null|                null|                null|                null|\n",
      "|Our predictive sy...|            genomics|            medicine| and machine lear...|                null|\n",
      "|What You’ll Be Do...|                null|                null|                null|                null|\n",
      "|Working with our ...|                null|                null|                null|                null|\n",
      "|Developing evalua...|       visualization| and productivity...|                null|                null|\n",
      "|Adapting our algo...|                null|                null|                null|                null|\n",
      "|Working with our ...| biologists and g...|                null|                null|                null|\n",
      "|     What You Bring:|                null|                null|                null|                null|\n",
      "|Solid Engineering...| ideally with a d...|                Math| or equivalent ex...|                null|\n",
      "|Senior candidates...|          developing| and deploying la...|                null|                null|\n",
      "|Experience in bui...|             testing|            training| and deploying pr...|                null|\n",
      "|Experience develo...|                null|                null|                null|                null|\n",
      "|Experience with f...|              Caffe2|          Tensorflow|               Keras|                 JAX|\n",
      "|Experience in the...|       AWS Sagemaker|  Google AI Platform| Azure Machine Le...|                null|\n",
      "|      What we offer:|                null|                null|                null|                null|\n",
      "|Leading role in d...|                null|                null|                null|                null|\n",
      "+--------------------+--------------------+--------------------+--------------------+--------------------+\n",
      "only showing top 20 rows\n",
      "\n"
     ]
    }
   ],
   "source": [
    "sc = spark.sparkContext\n",
    "\n",
    "# A CSV dataset is pointed to by path.\n",
    "# The path can be either a single CSV file or a directory of CSV files\n",
    "path = \"abc.csv\"\n",
    "\n",
    "df = spark.read.option(\"delimiter\", \",\").option(\"header\", \"true\").csv(path)\n",
    "df.show()"
   ]
  },
  {
   "cell_type": "code",
   "execution_count": 5,
   "metadata": {},
   "outputs": [
    {
     "ename": "AnalysisException",
     "evalue": "path file:/home/manoj/tact/pyspark-parquet-examples/second2.parquet already exists.",
     "output_type": "error",
     "traceback": [
      "\u001b[0;31m---------------------------------------------------------------------------\u001b[0m",
      "\u001b[0;31mAnalysisException\u001b[0m                         Traceback (most recent call last)",
      "Cell \u001b[0;32mIn[5], line 1\u001b[0m\n\u001b[0;32m----> 1\u001b[0m \u001b[43mdf\u001b[49m\u001b[38;5;241;43m.\u001b[39;49m\u001b[43mwrite\u001b[49m\u001b[38;5;241;43m.\u001b[39;49m\u001b[43mparquet\u001b[49m\u001b[43m(\u001b[49m\u001b[38;5;124;43m\"\u001b[39;49m\u001b[38;5;124;43msecond2.parquet\u001b[39;49m\u001b[38;5;124;43m\"\u001b[39;49m\u001b[43m)\u001b[49m\n",
      "File \u001b[0;32m~/.local/lib/python3.8/site-packages/pyspark/sql/readwriter.py:1140\u001b[0m, in \u001b[0;36mDataFrameWriter.parquet\u001b[0;34m(self, path, mode, partitionBy, compression)\u001b[0m\n\u001b[1;32m   1138\u001b[0m     \u001b[38;5;28mself\u001b[39m\u001b[38;5;241m.\u001b[39mpartitionBy(partitionBy)\n\u001b[1;32m   1139\u001b[0m \u001b[38;5;28mself\u001b[39m\u001b[38;5;241m.\u001b[39m_set_opts(compression\u001b[38;5;241m=\u001b[39mcompression)\n\u001b[0;32m-> 1140\u001b[0m \u001b[38;5;28;43mself\u001b[39;49m\u001b[38;5;241;43m.\u001b[39;49m\u001b[43m_jwrite\u001b[49m\u001b[38;5;241;43m.\u001b[39;49m\u001b[43mparquet\u001b[49m\u001b[43m(\u001b[49m\u001b[43mpath\u001b[49m\u001b[43m)\u001b[49m\n",
      "File \u001b[0;32m~/.local/lib/python3.8/site-packages/py4j/java_gateway.py:1321\u001b[0m, in \u001b[0;36mJavaMember.__call__\u001b[0;34m(self, *args)\u001b[0m\n\u001b[1;32m   1315\u001b[0m command \u001b[38;5;241m=\u001b[39m proto\u001b[38;5;241m.\u001b[39mCALL_COMMAND_NAME \u001b[38;5;241m+\u001b[39m\\\n\u001b[1;32m   1316\u001b[0m     \u001b[38;5;28mself\u001b[39m\u001b[38;5;241m.\u001b[39mcommand_header \u001b[38;5;241m+\u001b[39m\\\n\u001b[1;32m   1317\u001b[0m     args_command \u001b[38;5;241m+\u001b[39m\\\n\u001b[1;32m   1318\u001b[0m     proto\u001b[38;5;241m.\u001b[39mEND_COMMAND_PART\n\u001b[1;32m   1320\u001b[0m answer \u001b[38;5;241m=\u001b[39m \u001b[38;5;28mself\u001b[39m\u001b[38;5;241m.\u001b[39mgateway_client\u001b[38;5;241m.\u001b[39msend_command(command)\n\u001b[0;32m-> 1321\u001b[0m return_value \u001b[38;5;241m=\u001b[39m \u001b[43mget_return_value\u001b[49m\u001b[43m(\u001b[49m\n\u001b[1;32m   1322\u001b[0m \u001b[43m    \u001b[49m\u001b[43manswer\u001b[49m\u001b[43m,\u001b[49m\u001b[43m \u001b[49m\u001b[38;5;28;43mself\u001b[39;49m\u001b[38;5;241;43m.\u001b[39;49m\u001b[43mgateway_client\u001b[49m\u001b[43m,\u001b[49m\u001b[43m \u001b[49m\u001b[38;5;28;43mself\u001b[39;49m\u001b[38;5;241;43m.\u001b[39;49m\u001b[43mtarget_id\u001b[49m\u001b[43m,\u001b[49m\u001b[43m \u001b[49m\u001b[38;5;28;43mself\u001b[39;49m\u001b[38;5;241;43m.\u001b[39;49m\u001b[43mname\u001b[49m\u001b[43m)\u001b[49m\n\u001b[1;32m   1324\u001b[0m \u001b[38;5;28;01mfor\u001b[39;00m temp_arg \u001b[38;5;129;01min\u001b[39;00m temp_args:\n\u001b[1;32m   1325\u001b[0m     temp_arg\u001b[38;5;241m.\u001b[39m_detach()\n",
      "File \u001b[0;32m~/.local/lib/python3.8/site-packages/pyspark/sql/utils.py:196\u001b[0m, in \u001b[0;36mcapture_sql_exception.<locals>.deco\u001b[0;34m(*a, **kw)\u001b[0m\n\u001b[1;32m    192\u001b[0m converted \u001b[38;5;241m=\u001b[39m convert_exception(e\u001b[38;5;241m.\u001b[39mjava_exception)\n\u001b[1;32m    193\u001b[0m \u001b[38;5;28;01mif\u001b[39;00m \u001b[38;5;129;01mnot\u001b[39;00m \u001b[38;5;28misinstance\u001b[39m(converted, UnknownException):\n\u001b[1;32m    194\u001b[0m     \u001b[38;5;66;03m# Hide where the exception came from that shows a non-Pythonic\u001b[39;00m\n\u001b[1;32m    195\u001b[0m     \u001b[38;5;66;03m# JVM exception message.\u001b[39;00m\n\u001b[0;32m--> 196\u001b[0m     \u001b[38;5;28;01mraise\u001b[39;00m converted \u001b[38;5;28;01mfrom\u001b[39;00m \u001b[38;5;28mNone\u001b[39m\n\u001b[1;32m    197\u001b[0m \u001b[38;5;28;01melse\u001b[39;00m:\n\u001b[1;32m    198\u001b[0m     \u001b[38;5;28;01mraise\u001b[39;00m\n",
      "\u001b[0;31mAnalysisException\u001b[0m: path file:/home/manoj/tact/pyspark-parquet-examples/second2.parquet already exists."
     ]
    }
   ],
   "source": [
    "\n",
    "df.write.parquet(\"second2.parquet\")\n"
   ]
  },
  {
   "cell_type": "code",
   "execution_count": 6,
   "metadata": {},
   "outputs": [
    {
     "name": "stdout",
     "output_type": "stream",
     "text": [
      "root\n",
      " |-- title: string (nullable = true)\n",
      " |-- Company_name: string (nullable = true)\n",
      " |-- location: string (nullable = true)\n",
      " |-- job_detail: string (nullable = true)\n",
      " |-- content: string (nullable = true)\n",
      "\n",
      "+--------------------+--------------------+--------------------+--------------------+--------------------+\n",
      "|               title|        Company_name|            location|          job_detail|             content|\n",
      "+--------------------+--------------------+--------------------+--------------------+--------------------+\n",
      "|Machine Learning ...|       Deep Genomics|         Toronto, ON|            Job type|                null|\n",
      "|          Full-time\"|            About Us|                null|                null|                null|\n",
      "|     Founded in 2015| Deep Genomics is...| and by far the m...| AI platform that...|          mechanisms|\n",
      "|The thesis here a...| at some point in...| will face a gene...| whether Mendelia...| and we aim to be...|\n",
      "|     Ideal Candidate|                null|                null|                null|                null|\n",
      "|Our predictive sy...|            genomics|            medicine| and machine lear...|                null|\n",
      "|What You’ll Be Do...|                null|                null|                null|                null|\n",
      "|Working with our ...|                null|                null|                null|                null|\n",
      "|Developing evalua...|       visualization| and productivity...|                null|                null|\n",
      "|Adapting our algo...|                null|                null|                null|                null|\n",
      "|Working with our ...| biologists and g...|                null|                null|                null|\n",
      "|     What You Bring:|                null|                null|                null|                null|\n",
      "|Solid Engineering...| ideally with a d...|                Math| or equivalent ex...|                null|\n",
      "|Senior candidates...|          developing| and deploying la...|                null|                null|\n",
      "|Experience in bui...|             testing|            training| and deploying pr...|                null|\n",
      "|Experience develo...|                null|                null|                null|                null|\n",
      "|Experience with f...|              Caffe2|          Tensorflow|               Keras|                 JAX|\n",
      "|Experience in the...|       AWS Sagemaker|  Google AI Platform| Azure Machine Le...|                null|\n",
      "|      What we offer:|                null|                null|                null|                null|\n",
      "|Leading role in d...|                null|                null|                null|                null|\n",
      "+--------------------+--------------------+--------------------+--------------------+--------------------+\n",
      "only showing top 20 rows\n",
      "\n"
     ]
    }
   ],
   "source": [
    "ParDataFrame1 = spark.read.parquet(\"second2.parquet\")\n",
    "ParDataFrame1.createOrReplaceTempView(\"ParquetTable\")\n",
    "ParDataFrame1.printSchema()\n",
    "ParDataFrame1.show()"
   ]
  },
  {
   "cell_type": "code",
   "execution_count": 7,
   "metadata": {},
   "outputs": [
    {
     "name": "stdout",
     "output_type": "stream",
     "text": [
      "DataFrame[title: string, Company_name: string, location: string, job_detail: string, content: string]\n"
     ]
    }
   ],
   "source": [
    "results = spark.sql(\"SELECT * from ParquetTable \")\n",
    "print(results)"
   ]
  },
  {
   "cell_type": "code",
   "execution_count": 29,
   "metadata": {},
   "outputs": [],
   "source": [
    "from pyspark.sql.functions import col, sha2, concat\n",
    "\n",
    "data=df.withColumn(\"uid\", sha2(col('Company_name'), 256))"
   ]
  },
  {
   "cell_type": "code",
   "execution_count": 31,
   "metadata": {},
   "outputs": [],
   "source": [
    "data=ParDataFrame1.withColumn(\"uid\", sha2(col('Company_name'), 256)).select(col(\"Company_name\"),col(\"uid\"))\n"
   ]
  },
  {
   "cell_type": "code",
   "execution_count": 32,
   "metadata": {},
   "outputs": [
    {
     "name": "stdout",
     "output_type": "stream",
     "text": [
      "+--------------------+--------------------+\n",
      "|        Company_name|                 uid|\n",
      "+--------------------+--------------------+\n",
      "|       Deep Genomics|b2b831c64bff8f23b...|\n",
      "|            About Us|5d8c71abc527284cd...|\n",
      "| Deep Genomics is...|8ff665a68355ea4fa...|\n",
      "| at some point in...|3fe6522a4a5d7d125...|\n",
      "|                null|                null|\n",
      "|            genomics|3956d360d99c2031f...|\n",
      "|                null|                null|\n",
      "|                null|                null|\n",
      "|       visualization|3bb44f5fbe21589b2...|\n",
      "|                null|                null|\n",
      "| biologists and g...|c10c27a72a4ee612f...|\n",
      "|                null|                null|\n",
      "| ideally with a d...|33029737b95d0eea5...|\n",
      "|          developing|9f9dd96d6e8f67cbb...|\n",
      "|             testing|3095a4cc08f431a4f...|\n",
      "|                null|                null|\n",
      "|              Caffe2|1f0403855c08c0ec6...|\n",
      "|       AWS Sagemaker|7a293eb17a41f9938...|\n",
      "|                null|                null|\n",
      "|                null|                null|\n",
      "+--------------------+--------------------+\n",
      "only showing top 20 rows\n",
      "\n"
     ]
    }
   ],
   "source": [
    "data.show()"
   ]
  },
  {
   "cell_type": "code",
   "execution_count": 36,
   "metadata": {},
   "outputs": [],
   "source": [
    "data.write.json(\"data.json\")"
   ]
  },
  {
   "cell_type": "code",
   "execution_count": 37,
   "metadata": {},
   "outputs": [
    {
     "name": "stdout",
     "output_type": "stream",
     "text": [
      "root\n",
      " |-- Company_name: string (nullable = true)\n",
      " |-- uid: string (nullable = true)\n",
      "\n",
      "+--------------------+--------------------+\n",
      "|        Company_name|                 uid|\n",
      "+--------------------+--------------------+\n",
      "|       Deep Genomics|b2b831c64bff8f23b...|\n",
      "|            About Us|5d8c71abc527284cd...|\n",
      "| Deep Genomics is...|8ff665a68355ea4fa...|\n",
      "| at some point in...|3fe6522a4a5d7d125...|\n",
      "|                null|                null|\n",
      "|            genomics|3956d360d99c2031f...|\n",
      "|                null|                null|\n",
      "|                null|                null|\n",
      "|       visualization|3bb44f5fbe21589b2...|\n",
      "|                null|                null|\n",
      "| biologists and g...|c10c27a72a4ee612f...|\n",
      "|                null|                null|\n",
      "| ideally with a d...|33029737b95d0eea5...|\n",
      "|          developing|9f9dd96d6e8f67cbb...|\n",
      "|             testing|3095a4cc08f431a4f...|\n",
      "|                null|                null|\n",
      "|              Caffe2|1f0403855c08c0ec6...|\n",
      "|       AWS Sagemaker|7a293eb17a41f9938...|\n",
      "|                null|                null|\n",
      "|                null|                null|\n",
      "+--------------------+--------------------+\n",
      "only showing top 20 rows\n",
      "\n"
     ]
    }
   ],
   "source": [
    "df = spark.read.json(\"data.json\")\n",
    "df.printSchema()\n",
    "df.show()"
   ]
  }
 ],
 "metadata": {
  "kernelspec": {
   "display_name": "Python 3 (ipykernel)",
   "language": "python",
   "name": "python3"
  },
  "language_info": {
   "codemirror_mode": {
    "name": "ipython",
    "version": 3
   },
   "file_extension": ".py",
   "mimetype": "text/x-python",
   "name": "python",
   "nbconvert_exporter": "python",
   "pygments_lexer": "ipython3",
   "version": "3.8.15"
  }
 },
 "nbformat": 4,
 "nbformat_minor": 4
}
